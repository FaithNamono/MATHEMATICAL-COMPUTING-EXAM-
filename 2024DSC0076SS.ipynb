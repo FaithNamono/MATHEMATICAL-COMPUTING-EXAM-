{
 "cells": [
  {
   "cell_type": "code",
   "execution_count": 1,
   "id": "1aab547b-2bd0-4ae1-9712-e6d9c5848a9a",
   "metadata": {},
   "outputs": [],
   "source": [
    "import pandas as pd"
   ]
  },
  {
   "cell_type": "code",
   "execution_count": 2,
   "id": "3bcbbc96-7d34-4056-98fd-d0c89571d696",
   "metadata": {},
   "outputs": [],
   "source": [
    "import numpy as np"
   ]
  },
  {
   "cell_type": "code",
   "execution_count": 3,
   "id": "0aa3bc84-6a37-4dfe-8eac-edb07dffc215",
   "metadata": {},
   "outputs": [],
   "source": [
    "import matplotlib.pyplot as plt"
   ]
  },
  {
   "cell_type": "code",
   "execution_count": 4,
   "id": "37a00ede-d40e-4f15-8b73-1ed70cadb187",
   "metadata": {},
   "outputs": [],
   "source": [
    "import seaborn as sns"
   ]
  },
  {
   "cell_type": "code",
   "execution_count": 62,
   "id": "32ef94d9-00f4-460b-8840-97fa1ed8fafc",
   "metadata": {},
   "outputs": [],
   "source": [
    "from scipy.stats import poisson"
   ]
  },
  {
   "cell_type": "markdown",
   "id": "b61f77fc-537d-4eb1-9805-02841a1661d4",
   "metadata": {},
   "source": [
    "## Question five"
   ]
  },
  {
   "cell_type": "markdown",
   "id": "59ae0e0d-cbff-40ff-b513-8a59f0771d61",
   "metadata": {},
   "source": [
    "## (i)"
   ]
  },
  {
   "cell_type": "code",
   "execution_count": 64,
   "id": "11fda7a1-c97d-4c93-962a-8cff2ff06feb",
   "metadata": {},
   "outputs": [
    {
     "name": "stdout",
     "output_type": "stream",
     "text": [
      "[[1.  0.2 0.5]\n",
      " [0.2 1.  0.8]\n",
      " [0.5 0.8 1. ]]\n"
     ]
    }
   ],
   "source": [
    "## Constructing a matrix\n",
    "A = np.array([[1,0.2,0.5],[0.2,1,0.8],[0.5,0.8,1]])\n",
    "print(A)"
   ]
  },
  {
   "cell_type": "code",
   "execution_count": 65,
   "id": "6dd63db0-5060-469d-97f8-956dd2809431",
   "metadata": {},
   "outputs": [
    {
     "name": "stdout",
     "output_type": "stream",
     "text": [
      "[[1.  0.2 0.5]\n",
      " [0.2 1.  0.8]\n",
      " [0.5 0.8 1. ]]\n"
     ]
    }
   ],
   "source": [
    "## computing the transpose\n",
    "print(np.transpose(A))"
   ]
  },
  {
   "cell_type": "markdown",
   "id": "cd2609de-5eb7-48ed-b887-d3ab4ab44f99",
   "metadata": {},
   "source": [
    "## (ii)"
   ]
  },
  {
   "cell_type": "code",
   "execution_count": 66,
   "id": "244bd9bc-bbe1-42d8-916b-e992c1ea952f",
   "metadata": {},
   "outputs": [
    {
     "name": "stdout",
     "output_type": "stream",
     "text": [
      "0.2299999999999999\n"
     ]
    }
   ],
   "source": [
    "## Determinant of the matrix\n",
    "determinant = np.linalg.det(A)\n",
    "print(determinant)"
   ]
  },
  {
   "cell_type": "markdown",
   "id": "ab10ecf4-1e75-4f82-ac8c-204f2dd50151",
   "metadata": {},
   "source": [
    "## (iii)"
   ]
  },
  {
   "cell_type": "markdown",
   "id": "950d8b60-620a-4872-9c5f-3c957eed4bc3",
   "metadata": {},
   "source": [
    "## Decomposing the matrix"
   ]
  },
  {
   "cell_type": "code",
   "execution_count": 97,
   "id": "ae40b227-c438-4775-bfcf-94fd39344d6d",
   "metadata": {},
   "outputs": [
    {
     "name": "stdout",
     "output_type": "stream",
     "text": [
      "P(Permutation matrix):\n",
      "[[1. 0. 0.]\n",
      " [0. 1. 0.]\n",
      " [0. 0. 1.]]\n",
      "L(Lower triangular matrix):\n",
      "[[1.         0.         0.        ]\n",
      " [0.2        1.         0.        ]\n",
      " [0.5        0.72916667 1.        ]]\n",
      "U(Upper triangular matrix):\n",
      "[[1.         0.2        0.5       ]\n",
      " [0.         0.96       0.7       ]\n",
      " [0.         0.         0.23958333]]\n"
     ]
    }
   ],
   "source": [
    "from scipy.linalg import lu\n",
    "P,L,U =lu(A)\n",
    "print(\"P(Permutation matrix):\")\n",
    "print(P)\n",
    "print(\"L(Lower triangular matrix):\")\n",
    "print(L)\n",
    "print(\"U(Upper triangular matrix):\")\n",
    "print(U)\n"
   ]
  },
  {
   "cell_type": "markdown",
   "id": "804ece9d-bea5-4899-8c82-766a3b1537d1",
   "metadata": {},
   "source": [
    "## Transforming the matrix"
   ]
  },
  {
   "cell_type": "code",
   "execution_count": 88,
   "id": "b2bca94b-9894-418d-9a27-8c7484e9b5cc",
   "metadata": {},
   "outputs": [
    {
     "name": "stdout",
     "output_type": "stream",
     "text": [
      "Inverse of A:\n",
      "[[ 1.56521739  0.86956522 -1.47826087]\n",
      " [ 0.86956522  3.26086957 -3.04347826]\n",
      " [-1.47826087 -3.04347826  4.17391304]]\n"
     ]
    }
   ],
   "source": [
    "determinant = np.linalg.det(A)\n",
    "if det != 0:\n",
    "    A_inv = np.linalg.inv(A)\n",
    "    print(\"Inverse of A:\")\n",
    "    print(A_inv)\n",
    "else:\n",
    "    print(\"Matrix A is not invertible.\")\n"
   ]
  },
  {
   "cell_type": "markdown",
   "id": "51a343ac-330c-441c-81c2-e0ae6a87a0dd",
   "metadata": {},
   "source": [
    "## Question Six"
   ]
  },
  {
   "cell_type": "markdown",
   "id": "bd9bbb9d-0540-47b6-9970-caa27bab81d7",
   "metadata": {},
   "source": [
    "## (i)"
   ]
  },
  {
   "cell_type": "markdown",
   "id": "4a3fc4ec-0fe7-4ea7-9fa2-9cc7e914da8b",
   "metadata": {},
   "source": [
    "## Generate 1000 random samples from this Poisson distribution using python"
   ]
  },
  {
   "cell_type": "code",
   "execution_count": 39,
   "id": "73a70054-d583-4608-b088-ebf25d412853",
   "metadata": {},
   "outputs": [],
   "source": [
    "from numpy import random"
   ]
  },
  {
   "cell_type": "code",
   "execution_count": 95,
   "id": "d6383763-9ec5-4cfd-8c12-41312ea3d300",
   "metadata": {},
   "outputs": [],
   "source": [
    "λ = 5\n",
    "## mean = variance \n",
    "## λ = mean = variance"
   ]
  },
  {
   "cell_type": "code",
   "execution_count": 78,
   "id": "bc07dce6-46c2-402e-a4f1-a82a6fd4343f",
   "metadata": {},
   "outputs": [
    {
     "data": {
      "text/plain": [
       "array([ 1,  7,  0,  6,  5,  5,  4,  7,  3,  1,  9,  6,  1,  4,  4, 10,  9,\n",
       "        3,  4,  6,  4,  3,  6,  5,  4,  3,  9, 10,  6,  3,  4,  5,  5,  5,\n",
       "        4,  8,  4,  9,  6,  5,  6,  3,  8,  3,  8,  4,  2,  4,  5,  3,  2,\n",
       "        4,  4,  5,  5,  7,  7,  8,  8,  3,  5,  6,  4,  5,  3,  6,  4,  1,\n",
       "        9,  4,  1,  3,  2,  4,  6,  4,  6,  7,  3,  8,  2,  6,  6,  6,  4,\n",
       "        5,  5,  6,  3,  8,  4,  3,  4,  3,  5,  6,  5,  5,  5,  8,  6,  6,\n",
       "        4,  5, 11,  2,  5,  9,  5,  3,  2,  6,  6,  6,  7,  2,  3,  7,  2,\n",
       "        6,  3,  7,  8, 10,  6,  4,  3,  1,  7,  6,  3,  3,  5,  2,  3,  4,\n",
       "        6,  3,  3,  8,  6,  8,  4,  7,  7,  6,  3,  5, 11,  5,  6,  3,  6,\n",
       "        2,  8,  4,  2,  3,  4,  8,  5,  3,  5,  6,  3,  3,  4,  7,  2,  4,\n",
       "        9,  7,  9,  8,  6,  5,  5,  4,  6,  7,  3,  1,  4,  2,  4, 10,  7,\n",
       "        5,  5,  7,  3,  3,  5,  7,  2,  2,  5,  5,  2,  6,  5,  9,  6,  3,\n",
       "        1,  8,  6,  5,  1,  4,  5,  8,  6,  2,  4,  6,  4,  8,  3,  4, 10,\n",
       "        5,  4,  7,  0,  2,  7,  4,  5,  4,  7,  2,  7,  5, 10,  3,  6,  5,\n",
       "        2,  4,  6,  4,  8,  6,  3,  6,  5,  5,  4, 11,  5,  4,  1,  5,  6,\n",
       "        2,  4,  3,  3,  4,  4, 11,  6,  4,  3,  9,  6,  4,  9,  2,  6,  7,\n",
       "        1,  3,  2,  6,  5,  5,  6,  6,  3,  4,  5,  6,  4,  6,  8,  5,  3,\n",
       "        1,  3,  6, 13,  5,  7,  5,  1,  4,  8,  7,  5,  3,  6,  3,  4,  4,\n",
       "        4,  5,  8,  5,  5,  5,  4,  6,  6,  4,  3,  7,  6,  6,  5, 11,  7,\n",
       "        6,  5,  7,  4,  5,  2,  5,  4,  6,  6,  6,  5,  8,  4,  3, 12,  3,\n",
       "        8,  9,  5,  7,  5,  9,  3,  5,  6,  4,  3,  4,  8,  4,  2,  6,  4,\n",
       "        2,  6,  5,  5,  1,  7,  2,  3,  6,  3,  9,  8,  7,  6,  6,  7,  7,\n",
       "        2,  8,  2,  4,  6,  7,  3,  6,  5,  6,  3,  8,  3,  3,  5,  6,  7,\n",
       "        3,  6,  3,  4, 12,  5,  7,  3,  6,  5,  3,  2,  3,  0,  6,  2,  6,\n",
       "        2,  4,  7,  7,  2,  5,  8,  5,  1,  7,  8,  3,  4,  4,  7,  5,  5,\n",
       "        3,  4,  8,  4,  3,  1,  3,  2,  4, 10,  6,  5,  7,  6,  4,  4,  7,\n",
       "        8,  6,  9,  4,  4,  2,  9,  6,  4,  4,  4,  7,  7,  7,  1,  5,  8,\n",
       "        7,  5,  5,  7,  5,  7,  4,  7,  5,  5,  4,  6, 10,  7,  5,  7,  6,\n",
       "        5,  4,  1,  3,  4,  7,  6,  1,  2,  4,  1,  5,  5,  8,  7,  5,  7,\n",
       "        4,  5,  8,  4,  7,  4,  6,  4,  4,  5, 10,  7,  3,  5,  6,  3,  8,\n",
       "        1,  7,  5,  6,  5,  3,  7,  5,  6, 12,  5,  2,  8, 11,  2,  4,  3,\n",
       "        7,  7,  6,  5,  7,  4,  8,  4,  6,  5,  2,  7,  4,  3,  2,  7,  6,\n",
       "        5,  6,  2,  5,  4,  4,  3,  7,  3,  1,  6,  6,  7, 10,  4,  3,  1,\n",
       "        5,  8,  3,  3,  3,  7,  6,  1,  4,  7,  6,  4,  8,  1,  4,  1,  6,\n",
       "        3, 12,  5,  4,  3,  4,  3,  4,  5,  4,  3,  4,  3,  8,  3,  5,  2,\n",
       "        5,  3,  0,  6,  5,  7,  5,  8,  7,  4,  5,  5,  8,  3,  4,  4,  8,\n",
       "        2, 11,  3,  3,  6,  2,  3,  5,  6,  7,  5,  3,  3,  4,  4, 10,  5,\n",
       "        3,  4,  4,  4,  5,  4,  2,  1,  4,  6,  8,  3,  1, 12,  4,  7,  0,\n",
       "        7,  8,  2,  5,  6,  4, 14,  6,  4, 10,  4,  6,  6,  8,  2,  3,  5,\n",
       "        4,  3,  7,  7,  4,  4,  3,  7,  3,  9,  4,  4,  5,  5,  5,  3,  3,\n",
       "        3,  2,  9,  6,  5,  3,  5,  4,  9,  5, 10,  4,  9,  3,  6,  5,  7,\n",
       "        3,  8,  1,  1,  3,  7,  3, 10,  1,  7,  6,  3,  2,  6,  9,  4,  9,\n",
       "        6,  2,  3,  9,  2,  7,  6, 11,  3,  7, 13,  5,  3,  5,  6,  4,  7,\n",
       "        6,  5,  5,  3,  4,  9,  6, 10,  5,  6,  5,  3,  3,  6,  5,  2,  8,\n",
       "        2,  4,  6,  3,  6,  7,  2,  5,  4,  5,  4, 12,  9,  6,  4,  3,  1,\n",
       "        6,  3,  1,  3,  9,  9,  8,  5, 10, 10,  9,  5,  3,  3,  6,  9,  3,\n",
       "        4,  9,  6,  5,  3,  5,  5,  2,  6,  4,  3,  5,  4,  7,  6,  7,  7,\n",
       "       13,  3,  8,  3,  4, 12,  3,  5,  2,  4,  0,  5,  6,  8,  4,  6,  7,\n",
       "        5,  7,  8,  3,  8,  5,  7,  3,  5, 10,  6,  8,  4,  2,  5,  2,  2,\n",
       "        4,  6,  6,  2,  5,  4,  6,  3,  3,  8,  6,  3,  6,  5,  4,  3,  5,\n",
       "        8,  5,  3,  5,  5,  3,  9,  9,  5,  2,  2,  7,  3,  3,  2,  8,  4,\n",
       "        8,  2,  8,  3,  6,  6,  2,  9,  8,  4,  4,  6,  6,  7,  3,  8,  3,\n",
       "        5,  7,  3,  7,  2, 11,  3,  2,  6,  5,  5,  8,  4,  2,  3,  6,  8,\n",
       "        3,  7,  6,  4,  7,  4,  6,  3,  5,  3,  2,  5,  7,  5,  5,  1,  3,\n",
       "        3, 10,  5, 12, 11,  5,  8,  4,  5,  8, 11,  5,  7,  2,  2,  2,  4,\n",
       "        5,  8,  9,  8,  5, 13,  5,  5,  8,  8,  6,  4,  4,  2,  4,  4,  4,\n",
       "        7,  5,  6,  7,  4,  5,  5,  4,  1,  3,  7,  4,  3,  4,  6,  2,  6,\n",
       "        4,  5,  3,  6,  4,  7,  5,  8,  8,  6,  2,  7,  4,  9,  3,  2,  4,\n",
       "        4,  4,  4,  4,  2,  5,  2,  3,  4,  2,  8,  4,  4,  1],\n",
       "      dtype=int32)"
      ]
     },
     "execution_count": 78,
     "metadata": {},
     "output_type": "execute_result"
    }
   ],
   "source": [
    "poisson_data = np.random.poisson(λ, size = 1000)\n",
    "poisson_data"
   ]
  },
  {
   "cell_type": "markdown",
   "id": "53d4f440-b3dc-44b7-b382-ec2722ab96ce",
   "metadata": {},
   "source": [
    "## (ii)"
   ]
  },
  {
   "cell_type": "markdown",
   "id": "79feb5dd-a91a-4599-8ce7-461c20b3b144",
   "metadata": {},
   "source": [
    "## Calculating and printing the value of the generated samples"
   ]
  },
  {
   "cell_type": "code",
   "execution_count": 91,
   "id": "35e727cd-e9b5-46d5-8727-110fd2603f01",
   "metadata": {},
   "outputs": [
    {
     "name": "stdout",
     "output_type": "stream",
     "text": [
      "5.077\n"
     ]
    }
   ],
   "source": [
    "poisson_mean = np.mean(poisson_data)\n",
    "print(poisson_mean)"
   ]
  },
  {
   "cell_type": "code",
   "execution_count": 98,
   "id": "ee9ea076-b9dc-48c8-8058-c2c02c35dfa9",
   "metadata": {},
   "outputs": [
    {
     "name": "stdout",
     "output_type": "stream",
     "text": [
      "5.551071\n"
     ]
    }
   ],
   "source": [
    "poisson_variance=np.var(poisson_data)\n",
    "print(poisson_variance)"
   ]
  },
  {
   "cell_type": "markdown",
   "id": "4e24d526-c017-49ab-a051-53eafc1d59f5",
   "metadata": {},
   "source": [
    "## (iii)"
   ]
  },
  {
   "cell_type": "markdown",
   "id": "83cb57d3-e77c-4bdb-8893-f92dc639857c",
   "metadata": {},
   "source": [
    "## A histogram of the samples to visualize the distributions"
   ]
  },
  {
   "cell_type": "code",
   "execution_count": 86,
   "id": "541d996e-d91f-4089-bece-c11305c6f7de",
   "metadata": {},
   "outputs": [
    {
     "data": {
      "image/png": "[encoded data removed]",
      "text/plain": [
       "<Figure size 640x480 with 1 Axes>"
      ]
     },
     "metadata": {},
     "output_type": "display_data"
    }
   ],
   "source": [
    "plt.hist(poisson_data, bins=10, color='blue', edgecolor='black', density=True)\n",
    "plt.ylabel('Frequency')\n",
    "plt.xlabel(\"Number of customer arrivals\")\n",
    "plt.title('Visualization of the distribution')\n",
    "plt.show()\n"
   ]
  },
  {
   "cell_type": "code",
   "execution_count": null,
   "id": "83226f35-551d-4e89-ac6d-b9b43f72a654",
   "metadata": {},
   "outputs": [],
   "source": []
  },
  {
   "cell_type": "code",
   "execution_count": null,
   "id": "c5d56e0d-4f06-4c18-b667-b7db29f52003",
   "metadata": {},
   "outputs": [],
   "source": []
  },
  {
   "cell_type": "code",
   "execution_count": null,
   "id": "7ec5aceb-70a7-4f18-a533-b3d87938b006",
   "metadata": {},
   "outputs": [],
   "source": []
  }
 ],
 "metadata": {
  "kernelspec": {
   "display_name": "Python 3 (ipykernel)",
   "language": "python",
   "name": "python3"
  },
  "language_info": {
   "codemirror_mode": {
    "name": "ipython",
    "version": 3
   },
   "file_extension": ".py",
   "mimetype": "text/x-python",
   "name": "python",
   "nbconvert_exporter": "python",
   "pygments_lexer": "ipython3",
   "version": "3.12.7"
  }
 },
 "nbformat": 4,
 "nbformat_minor": 5
}
